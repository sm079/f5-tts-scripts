{
 "cells": [
  {
   "cell_type": "code",
   "execution_count": null,
   "id": "4e86c61a",
   "metadata": {},
   "outputs": [],
   "source": [
    "import re\n",
    "\n",
    "file_path = r\"ne_np_female\\line_index.tsv\"\n",
    "\n",
    "with open(file_path, \"r\", encoding=\"utf-8\") as f:\n",
    "    text = f.read()\n",
    "\n",
    "words = re.sub(r'\\n[^\\t]*\\t', ' ', text)[20:-1].split(\" \")\n",
    "word_count = {}\n",
    "\n",
    "for word in words:\n",
    "    if word:    \n",
    "        if word in word_count:\n",
    "            word_count[word] += 1\n",
    "        else:\n",
    "            word_count[word] = 1\n",
    "        \n",
    "\n",
    "with open(\"dict_ne.txt\", \"w\", encoding=\"utf-8\") as f:\n",
    "    words_sorted = sorted(word_count, key=lambda x: word_count[x], reverse=True)\n",
    "    for word in words_sorted:\n",
    "        f.write(f\"{word}\\n\")"
   ]
  },
  {
   "cell_type": "code",
   "execution_count": null,
   "id": "8ae9b5fa",
   "metadata": {},
   "outputs": [],
   "source": [
    "words_map = {}\n",
    "\n",
    "with (\n",
    "    open(\"dict_ne.txt\", \"r\", encoding=\"utf-8\") as f1, \n",
    "    open(\"dict_en.txt\", \"r\", encoding=\"utf-8\") as f2, \n",
    "    # open(\"dict_map.txt\", \"w\", encoding=\"utf-8\") as f3\n",
    "    ):\n",
    "\n",
    "    for w1, w2 in zip(f1, f2):\n",
    "        words_map[w1[:-1]] = w2.strip()\n",
    "        # f3.write(f\"{w1[:-1]}: {w2.strip()}\\n\")"
   ]
  },
  {
   "cell_type": "code",
   "execution_count": null,
   "id": "86edbe81",
   "metadata": {},
   "outputs": [],
   "source": [
    "import csv\n",
    "\n",
    "with open(\"metadata.csv\", mode=\"w\", newline=\"\") as file:\n",
    "    writer = csv.writer(file, delimiter='|')\n",
    "\n",
    "    for i, line in enumerate(text.split(\"\\n\")[:-1]):\n",
    "        fname, words_ne = line.split(\"\\t\")\n",
    "        words_en = \"\"\n",
    "        for word in words_ne.split(\" \"):\n",
    "            if word in words_map:\n",
    "                words_en += words_map[word] + \" \"\n",
    "\n",
    "        writer.writerow([f\"segment_{i}\", words_en])"
   ]
  },
  {
   "cell_type": "code",
   "execution_count": null,
   "id": "090caebc",
   "metadata": {},
   "outputs": [],
   "source": [
    "class R:\n",
    "\n",
    "    def __init__(self):\n",
    "        self.special_chars_ne = [\"अ\", \"आ\", \"इ\", \"ई\", \"उ\", \"ऊ\", \"ऋ\", \"ॠ\", \"ए\", \"ऐ\", \"ओ\", \"औ\", \"ॐ\"]\n",
    "        self.consonants_ne    = [\"क\", \"ख\", \"ग\", \"घ\", \"ङ\", \"च\", \"छ\", \"ज\", \"झ\", \"ञ\", \"ट\", \"ठ\", \"ड\", \"ढ\", \"ण\", \"त\", \"थ\", \"द\", \"ध\", \"न\", \"प\", \"फ\", \"ब\", \"भ\", \"म\", \"य\", \"र\", \"ल\", \"व\", \"श\", \"ष\", \"स\", \"ह\", \"क्ष\", \"ज्ञ\"]\n",
    "        self.vowel_marks_ne   = [\"ा\", \"ि\", \"ी\", \"ु\", \"ू\", \"ृ\", \"े\", \"ै\", \"ो\", \"ौ\", \"्\", \"ं\", \"ँ\", \"\"]\n",
    "\n",
    "        self.special_chars_en = [\"a\", \"aa\", \"i\", \"ii\", \"u\", \"uu\", \"ri\", \"ree\", \"e\", \"ai\", \"o\", \"au\", \"om\"]\n",
    "        self.consonants_en    = [\"k\", \"kh\", \"g\", \"gh\", \"ng\", \"ch\", \"chh\", \"j\", \"jh\", \"yn\", \"t\", \"th\", \"d\", \"dh\", \"n\", \"t\", \"th\", \"d\", \"dh\", \"n\", \"p\", \"ph\", \"b\", \"bh\", \"m\", \"y\", \"r\", \"l\", \"b\", \"sh\", \"sh\", \"s\", \"h\", \"ksh\", \"gy\"]\n",
    "        self.vowel_marks_en   = [\"aa\", \"i\", \"ii\", \"u\", \"uu\", \"ri\", \"e\", \"ai\", \"o\", \"au\", \"\", \"a\", \"aa\", \"a\"]\n",
    "\n",
    "        assert len(self.special_chars_ne) == len(self.special_chars_en)\n",
    "        assert len(self.consonants_ne   ) == len(self.consonants_en   )\n",
    "        assert len(self.vowel_marks_ne  ) == len(self.vowel_marks_en  )\n",
    "\n",
    "        all_ne = [consonant + vowel_mark for consonant in self.consonants_ne for vowel_mark in self.vowel_marks_ne] + self.special_chars_ne\n",
    "        all_en = [consonant + vowel_mark for consonant in self.consonants_en for vowel_mark in self.vowel_marks_en] + self.special_chars_en\n",
    "\n",
    "        self.map = dict(zip(all_ne, all_en))\n",
    "\n",
    "\n",
    "    def process(self, text):\n",
    "        for key, value in self.map.items():\n",
    "            text = text.replace(key, value)\n",
    "\n",
    "        for i in self.vowel_marks_ne:\n",
    "            text = text.replace(i, \"\")\n",
    "\n",
    "        return text   "
   ]
  },
  {
   "cell_type": "code",
   "execution_count": null,
   "id": "5aa0ea0e",
   "metadata": {},
   "outputs": [],
   "source": [
    "t = R()\n",
    "\n",
    "with open(\"metadata_.csv\", mode=\"w\", newline=\"\", encoding=\"utf-8\") as file:\n",
    "    writer = csv.writer(file, delimiter='|')\n",
    "\n",
    "    for i, line in enumerate(text.split(\"\\n\")[:-1]):\n",
    "        fname, words_ne = line.split(\"\\t\")\n",
    "        words_en = t.process(words_ne)\n",
    "        writer.writerow([f\"segment_{i}\", words_en])"
   ]
  },
  {
   "cell_type": "code",
   "execution_count": null,
   "id": "9c1a23fa",
   "metadata": {},
   "outputs": [],
   "source": [
    "# from pathlib import Path\n",
    "\n",
    "# paths = Path(r\"test_nep_pinyin\\wavs\").glob(\"*.wav\")\n",
    "# for i, path in enumerate(paths):\n",
    "#     path.rename(path.parent/f\"segment_{i}.wav\")"
   ]
  },
  {
   "cell_type": "code",
   "execution_count": null,
   "id": "242bca1c",
   "metadata": {},
   "outputs": [],
   "source": []
  }
 ],
 "metadata": {
  "kernelspec": {
   "display_name": ".venv",
   "language": "python",
   "name": "python3"
  },
  "language_info": {
   "codemirror_mode": {
    "name": "ipython",
    "version": 3
   },
   "file_extension": ".py",
   "mimetype": "text/x-python",
   "name": "python",
   "nbconvert_exporter": "python",
   "pygments_lexer": "ipython3",
   "version": "3.11.4"
  }
 },
 "nbformat": 4,
 "nbformat_minor": 5
}
